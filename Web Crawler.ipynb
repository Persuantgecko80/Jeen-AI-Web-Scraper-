{
 "cells": [
  {
   "cell_type": "code",
   "execution_count": 25,
   "metadata": {},
   "outputs": [
    {
     "name": "stdout",
     "output_type": "stream",
     "text": [
      "Data saved to books_to_scrape_full_data.xlsx\n"
     ]
    }
   ],
   "source": [
    "import requests\n",
    "from bs4 import BeautifulSoup\n",
    "import pandas as pd\n",
    "from urllib.parse import urljoin\n",
    "\n",
    "# Function to extract content from a book's page\n",
    "def extract_book_content(url):\n",
    "    try:\n",
    "        response = requests.get(url)\n",
    "        response.raise_for_status()\n",
    "        soup = BeautifulSoup(response.text, 'html.parser')\n",
    "        \n",
    "        # Extract the book title\n",
    "        page_name = soup.h1.get_text().strip() if soup.h1 else 'No title'\n",
    "\n",
    "        # Extract book description (from <meta> tag or first paragraph)\n",
    "        description_tag = soup.find('meta', {'name': 'description'})\n",
    "        content = description_tag['content'].strip() if description_tag else 'No description available'\n",
    "        \n",
    "        return page_name, url, content\n",
    "    except requests.exceptions.RequestException as e:\n",
    "        print(f\"Error accessing {url}: {e}\")\n",
    "        return None, url, None\n",
    "\n",
    "# Function to crawl all pages of Books to Scrape\n",
    "def crawl_books_to_scrape(main_url):\n",
    "    data = []\n",
    "    current_page_url = main_url\n",
    "    page_num = 1\n",
    "\n",
    "    while current_page_url:\n",
    "        try:\n",
    "            # Request the current page\n",
    "            response = requests.get(current_page_url)\n",
    "            response.raise_for_status()\n",
    "            soup = BeautifulSoup(response.text, 'html.parser')\n",
    "\n",
    "            # Find all book links on the current page\n",
    "            book_links = [urljoin(current_page_url, a['href']) for a in soup.select('h3 a')]\n",
    "\n",
    "            # Extract data from each book's detail page\n",
    "            for link in book_links:\n",
    "                page_name, url, content = extract_book_content(link)\n",
    "                if page_name:\n",
    "                    data.append([page_name, url, content])\n",
    "\n",
    "            # Check for the \"next\" button and move to the next page if available\n",
    "            next_button = soup.find('li', class_='next')\n",
    "            if next_button:\n",
    "                page_num += 1\n",
    "                next_page_url = f'catalogue/page-{page_num}.html'\n",
    "                current_page_url = urljoin(main_url, next_page_url)\n",
    "            else:\n",
    "                current_page_url = None\n",
    "\n",
    "        except requests.exceptions.RequestException as e:\n",
    "            print(f\"Error accessing {current_page_url}: {e}\")\n",
    "            break\n",
    "\n",
    "    return data\n",
    "\n",
    "# Main code to execute the crawler and save to Excel\n",
    "if __name__ == '__main__':\n",
    "    main_url = 'https://books.toscrape.com/'\n",
    "    crawled_data = crawl_books_to_scrape(main_url)\n",
    "\n",
    "    # Save results to Excel\n",
    "    df = pd.DataFrame(crawled_data, columns=['Page Name', 'URL', 'Content'])\n",
    "    df.to_excel('books_to_scrape_full_data.xlsx', index=False)\n",
    "\n",
    "    print(\"Data saved to books_to_scrape_full_data.xlsx\")\n",
    "\n",
    "# Takes around 15 min to finish scraping 1000 books."
   ]
  }
 ],
 "metadata": {
  "kernelspec": {
   "display_name": "Python 3",
   "language": "python",
   "name": "python3"
  },
  "language_info": {
   "codemirror_mode": {
    "name": "ipython",
    "version": 3
   },
   "file_extension": ".py",
   "mimetype": "text/x-python",
   "name": "python",
   "nbconvert_exporter": "python",
   "pygments_lexer": "ipython3",
   "version": "3.12.3"
  }
 },
 "nbformat": 4,
 "nbformat_minor": 2
}
